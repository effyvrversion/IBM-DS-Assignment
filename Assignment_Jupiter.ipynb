{
 "cells": [
  {
   "cell_type": "markdown",
   "metadata": {},
   "source": [
    "<center>\n",
    "    <img src=\"https://cf-courses-data.s3.us.cloud-object-storage.appdomain.cloud/IBMDeveloperSkillsNetwork-DS0105EN-SkillsNetwork/labs/Module2/images/SN_web_lightmode.png\" width=\"300\" alt=\"cognitiveclass.ai logo\">\n",
    "</center>\n"
   ]
  },
  {
   "cell_type": "markdown",
   "metadata": {},
   "source": [
    "#### Add your code below following the instructions given in the course\n"
   ]
  },
  {
   "cell_type": "markdown",
   "metadata": {},
   "source": [
    "# Final Assignment-Jupiter"
   ]
  },
  {
   "cell_type": "markdown",
   "metadata": {},
   "source": [
    "I'm doing my assignment with Jupiter Notebook."
   ]
  },
  {
   "cell_type": "markdown",
   "metadata": {},
   "source": [
    "## Data Science Languages: \n",
    "There are multiple languages for Data Science Analysis.\n",
    "1. Python\n",
    "2. R\n",
    "3. SQL\n",
    "4. JAVA\n",
    "5. Julia\n",
    "6. Scala\n",
    "7. Javascript"
   ]
  },
  {
   "cell_type": "markdown",
   "metadata": {},
   "source": [
    "## Data Science Libraries: \n",
    "Some of the libraries are:\n",
    "1. Pandas\n",
    "2. Numpy\n",
    "3. Seaborn\n",
    "4. Matplotlib\n",
    "5. TensorFlow\n",
    "6. PyTorch\n",
    "7. SciPy\n",
    "8. Keras"
   ]
  },
  {
   "cell_type": "markdown",
   "metadata": {},
   "source": [
    "## Data Science Tools:\n",
    "Some of the tools are:\n",
    "\n",
    "| Tools    | \n",
    "| -------- | \n",
    "| IPython  | \n",
    "| NumPy    | \n",
    "| Matplotlib | \n",
    "| Jupyter  | \n",
    "| Pandas   |\n",
    "| Scikit-Learn | "
   ]
  },
  {
   "cell_type": "markdown",
   "metadata": {},
   "source": [
    "## Arithmetic Expression:\n",
    " Include: addition, subtraction, division, etc.\n",
    " - 2+5-8=-1\n",
    " - 6/3=2\n",
    " - 3*7=21"
   ]
  },
  {
   "cell_type": "code",
   "execution_count": 1,
   "metadata": {},
   "outputs": [
    {
     "data": {
      "text/plain": [
       "-1"
      ]
     },
     "execution_count": 1,
     "metadata": {},
     "output_type": "execute_result"
    }
   ],
   "source": [
    " 2+5-8"
   ]
  },
  {
   "cell_type": "code",
   "execution_count": 1,
   "metadata": {},
   "outputs": [
    {
     "data": {
      "text/plain": [
       "57"
      ]
     },
     "execution_count": 1,
     "metadata": {},
     "output_type": "execute_result"
    }
   ],
   "source": [
    "#8.multiply and add numbers\n",
    "5*3+6*7"
   ]
  },
  {
   "cell_type": "code",
   "execution_count": 5,
   "metadata": {},
   "outputs": [
    {
     "name": "stdout",
     "output_type": "stream",
     "text": [
      "36 minutes equal to 0.6 hours\n"
     ]
    }
   ],
   "source": [
    "#9.convert minutes to hours\n",
    "mins = 36\n",
    "hours = mins/60\n",
    "print(f\"{mins} minutes equal to {hours} hours\")"
   ]
  },
  {
   "cell_type": "markdown",
   "metadata": {},
   "source": [
    "## Objectives: \n",
    "- Practice with Jupiter Notebook\n",
    "- version control in Github"
   ]
  },
  {
   "cell_type": "markdown",
   "metadata": {},
   "source": [
    "## Author’s name\n",
    "Effy"
   ]
  }
 ],
 "metadata": {
  "kernelspec": {
   "display_name": "Python 3 (ipykernel)",
   "language": "python",
   "name": "python3"
  },
  "language_info": {
   "codemirror_mode": {
    "name": "ipython",
    "version": 3
   },
   "file_extension": ".py",
   "mimetype": "text/x-python",
   "name": "python",
   "nbconvert_exporter": "python",
   "pygments_lexer": "ipython3",
   "version": "3.9.12"
  }
 },
 "nbformat": 4,
 "nbformat_minor": 4
}
